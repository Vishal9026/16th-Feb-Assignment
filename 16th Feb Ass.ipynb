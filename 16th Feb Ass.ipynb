{
 "cells": [
  {
   "cell_type": "code",
   "execution_count": 1,
   "id": "09b24360-ba9e-4ba1-a34c-685a6536e310",
   "metadata": {},
   "outputs": [],
   "source": [
    "# ANSWER-1)\n",
    "# Database is an electronic place/system where `data is stored` in a way that it can be easily accessed, managed, and updated.\n",
    "# It is also used to `organize the data` in the form of a table, schema, views, and reports, etc.\n",
    "# * Relation\n",
    "#   * SQL is a `relational` database management system.\n",
    "#   * NoSQL is a `non-relational` or distributed database management system\n",
    "# * Model\n",
    "#   * SQL follows the `ACID model`\n",
    "#   * No-SQL follows the `BASE model`\n",
    "# * Database type\n",
    "#   * SQL is in the form of `tables`, i.e., in the form of rows and columns.\n",
    "#   * NoSQL is in the form of documents, `key-value`, and graphs.\n",
    "# * Data Type\n",
    "#   * SQL is not the best choice for storing hierarchical data\n",
    "#   * NoSQL database is a perfect option for `storing hierarchical data`\n",
    "# * Scaling\n",
    "#   * SQL - esay vertical scaling, difficult horizantal scaling\n",
    "#   * NoSQL - easy vertical and horizantal scaling\n",
    "\n"
   ]
  },
  {
   "cell_type": "code",
   "execution_count": 2,
   "id": "4b71159e-b10f-4770-a26c-e01711e916ee",
   "metadata": {},
   "outputs": [],
   "source": [
    "# ANSWER-2)\n",
    "# Data Definition Language(DDL) is a subset of SQL and a part of DBMS(Database Management System). DDL consist of Commands to commands like CREATE, ALTER, TRUNCATE and DROP. These commands are used to create or modify the tables in SQL.\n",
    "# CREATE:This command is used to create a new table in SQL. The user has to give information like table name, column names, and their datatypes.\n",
    "# CREATE TABLE table_name\n",
    "# FOR EXAMPLE-\n",
    "# (\n",
    "# column_1 datatype,\n",
    "# column_2 datatype,\n",
    "# column_3 datatype,\n",
    "# ....\n",
    "# );\n",
    "# ALERT:This command is used to add, delete or change columns in the existing table. The user needs to know the existing table name and can do add, delete or modify tasks easily.\n",
    "#EX-\n",
    "# ALTER TABLE table_name\n",
    "# ADD column_name datatype;\n",
    "#TRUNCATE :This command is used to remove all rows from the table, but the structure of the table still exists.\n",
    "# EX-\n",
    "# TRUNCATE TABLE table_name;\n",
    "#DROP - This command is used to remove an existing table along with its structure from the Database.\n",
    "# EX-\n",
    "# DROP TABLE table_name;\n"
   ]
  },
  {
   "cell_type": "code",
   "execution_count": 3,
   "id": "23e34188-012c-4a18-b893-369b3127a762",
   "metadata": {},
   "outputs": [],
   "source": [
    "# ANSWER-3)\n",
    "# The structured query language (SQL) commands deal with the manipulation of data present in the database that belongs to the DML or Data Manipulation Language. This includes most of the SQL statements.\n",
    "# INSERT − Insert data into a table.\n",
    "# ex-\n",
    "# Insert into Employee(Emp_id, Emp_name) values (001, “ bhanu”);\n",
    "# Insert into Employee(Emp_id, Emp_name) values (002, “ hari”);\n",
    "# Insert into Employee(Emp_id, Emp_name) values (003, “ bob”);\n",
    "# UPDATE − Update existing data within a table.\n",
    "# ex-\n",
    "# UPDATE Employee SET Emp_name= Ram WHERE Emp_id= 001;\n",
    "# DELETE − Delete records from a database table.\n",
    "# ex-\n",
    "#DELETE from Employee WHERE Emp_id=002;\n"
   ]
  },
  {
   "cell_type": "code",
   "execution_count": 4,
   "id": "df32239b-ae6c-4d96-8e7c-d03ca0108d3d",
   "metadata": {},
   "outputs": [],
   "source": [
    "# ANSWER-4)\n",
    "# DQL stands for Data Query Language, DQL statements are used for performing queries on the data within schema objects.\n",
    "# SELECT - shows the records of the specified table.\n",
    "# EX-\n",
    "# SELECT * FROM Student;  \n"
   ]
  },
  {
   "cell_type": "code",
   "execution_count": 5,
   "id": "1e50c496-09f0-4e31-8335-aad516f42564",
   "metadata": {},
   "outputs": [],
   "source": [
    "# ANSWER-5)\n",
    "# A column or columns is called primary key (PK) that uniquely identifies each row in the table.\n",
    "#A foreign key is a field or a column that is used to establish a link between two tables. A foreign key in one table used to point primary key in another table."
   ]
  },
  {
   "cell_type": "code",
   "execution_count": 6,
   "id": "423aae59-fe51-4693-9cfb-bc5a1d962ff9",
   "metadata": {},
   "outputs": [
    {
     "data": {
      "text/plain": [
       "'\\nimport mysql.connector\\n# import mysql.connector\\n#create user \\'user\\'@\\'%\\' identified by \\'password\\'\\nmydb = mysql.connector.connect(\\n  host=\"localhost\",\\n  user=\"abc\",\\n  password=\"password\"\\n)\\nmycursor = mydb.cursor()\\nmycursor.execute(\"select * from test1.test_table\")\\nfor i in mycursor.fetchall():\\n    print(i)\\nmydb.close()\\n'"
      ]
     },
     "execution_count": 6,
     "metadata": {},
     "output_type": "execute_result"
    }
   ],
   "source": [
    "# ANSWER-6)\n",
    "# o execute a SQL query in Python, we need to use a cursor, which abstracts away the access to database records.\n",
    "\n",
    "# MySQL Connector/Python provides you with the MySQLCursor class, which instantiates objects that can execute MySQL queries in Python. An `instance of the MySQLCursor class is also called a cursor`.\n",
    "\n",
    "\n",
    "# A query that needs to be executed is sent to `cursor.execute()` in string format.\n",
    "\n",
    "'''\n",
    "import mysql.connector\n",
    "# import mysql.connector\n",
    "#create user 'user'@'%' identified by 'password'\n",
    "mydb = mysql.connector.connect(\n",
    "  host=\"localhost\",\n",
    "  user=\"abc\",\n",
    "  password=\"password\"\n",
    ")\n",
    "mycursor = mydb.cursor()\n",
    "mycursor.execute(\"select * from test1.test_table\")\n",
    "for i in mycursor.fetchall():\n",
    "    print(i)\n",
    "mydb.close()\n",
    "'''"
   ]
  },
  {
   "cell_type": "code",
   "execution_count": 8,
   "id": "c2483aaf-6307-43e1-b751-92dd6c444f4b",
   "metadata": {},
   "outputs": [],
   "source": [
    "# ANSWER-7)\n",
    "# The order in which the clauses in queries are executed is as follows:\n",
    "\n",
    "# 1. FROM/JOIN: The FROM and/or JOIN clauses are executed first to determine the data of interest.\n",
    "\n",
    "# 2. WHERE: The WHERE clause is executed to filter out records that do not meet the constraints.\n",
    "\n",
    "# 3. GROUP BY: The GROUP BY clause is executed to group the data based on the values in one or more columns.\n",
    "\n",
    "# 4. HAVING: The HAVING clause is executed to remove the created grouped records that don’t meet the constraints.\n",
    "\n",
    "# 5. SELECT: The SELECT clause is executed to derive all desired columns and expressions.\n",
    "\n",
    "# 6. ORDER BY: The ORDER BY clause is executed to sort the derived values in ascending or descending order.\n",
    "\n",
    "# 7. LIMIT/OFFSET: Finally, the LIMIT and/or OFFSET clauses are executed to keep or skip a specified number of rows."
   ]
  },
  {
   "cell_type": "code",
   "execution_count": null,
   "id": "a2e0406c-5660-4e17-a0a9-1adf2ce8eedd",
   "metadata": {},
   "outputs": [],
   "source": []
  }
 ],
 "metadata": {
  "kernelspec": {
   "display_name": "Python 3 (ipykernel)",
   "language": "python",
   "name": "python3"
  },
  "language_info": {
   "codemirror_mode": {
    "name": "ipython",
    "version": 3
   },
   "file_extension": ".py",
   "mimetype": "text/x-python",
   "name": "python",
   "nbconvert_exporter": "python",
   "pygments_lexer": "ipython3",
   "version": "3.10.8"
  }
 },
 "nbformat": 4,
 "nbformat_minor": 5
}
